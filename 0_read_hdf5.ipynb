{
 "cells": [
  {
   "cell_type": "code",
   "execution_count": 23,
   "metadata": {},
   "outputs": [],
   "source": [
    "import h5py  # heavy lifting hdf5 reading\n",
    "\n",
    "import numpy as np\n",
    "import pandas as pd"
   ]
  },
  {
   "cell_type": "code",
   "execution_count": 24,
   "metadata": {},
   "outputs": [
    {
     "name": "stdout",
     "output_type": "stream",
     "text": [
      "<HDF5 group \"/_f0_306.4\" (2 members)>\n",
      "----><HDF5 group \"/_f0_306.4/L1\" (2 members)>\n",
      "---------><HDF5 dataset \"SFTs\": shape (360, 5289), type \"<c8\">\n",
      "---------><HDF5 dataset \"timestamps_GPS\": shape (5289,), type \"<i8\">\n",
      "----><HDF5 dataset \"frequency_Hz\": shape (360,), type \"<f8\">\n"
     ]
    }
   ],
   "source": [
    "# train\n",
    "test_filename = '../SFT_files/SFT_f0_306.4_.hdf5'\n",
    "with h5py.File(test_filename, \"r\") as f:\n",
    "    for file_key in f.keys():\n",
    "        group = f[file_key]\n",
    "        print(group)\n",
    "        try:\n",
    "            for group_key in group.keys():\n",
    "                group2 = group[group_key]\n",
    "                print(f\"---->{group2}\")\n",
    "                for group_key2 in group2.keys():\n",
    "                        print(f\"--------->{group2[group_key2]}\")\n",
    "        except AttributeError:\n",
    "            pass"
   ]
  },
  {
   "cell_type": "code",
   "execution_count": 25,
   "metadata": {},
   "outputs": [],
   "source": [
    "# train\n",
    "train_filename = '../SFT_files/SFT_f0_306.4_.hdf5'\n",
    "datasets = []\n",
    "with h5py.File(train_filename, \"r\") as f:\n",
    "    for file_key in f.keys():\n",
    "        group = f[file_key]\n",
    "        if isinstance(group, h5py._hl.dataset.Dataset):\n",
    "            datasets.append(np.array(group))\n",
    "            continue\n",
    "        for group_key in group.keys():\n",
    "            group2 = group[group_key]\n",
    "            if isinstance(group2, h5py._hl.dataset.Dataset):\n",
    "                datasets.append(np.array(group2))\n",
    "                continue\n",
    "            for group_key2 in group2.keys():\n",
    "                group3 = group2[group_key2]\n",
    "                if isinstance(group3, h5py._hl.dataset.Dataset):\n",
    "                    datasets.append(np.array(group3))\n",
    "                    continue"
   ]
  },
  {
   "cell_type": "code",
   "execution_count": 26,
   "metadata": {},
   "outputs": [
    {
     "name": "stdout",
     "output_type": "stream",
     "text": [
      "3\n",
      "[[ 4.3973976e-25-5.3621132e-24j -5.2641075e-24-5.6829910e-24j\n",
      "  -3.9830427e-24-2.8649953e-24j ...  0.0000000e+00+0.0000000e+00j\n",
      "   0.0000000e+00+0.0000000e+00j  0.0000000e+00+0.0000000e+00j]\n",
      " [-3.1845699e-24-2.1544714e-24j -6.3470206e-24+3.9523142e-24j\n",
      "   4.5015839e-24-4.5306634e-25j ...  0.0000000e+00+0.0000000e+00j\n",
      "   0.0000000e+00+0.0000000e+00j  0.0000000e+00+0.0000000e+00j]\n",
      " [ 2.7072138e-24+3.7460602e-24j  3.3115671e-24+3.1897618e-24j\n",
      "   1.4730204e-24+9.8171353e-25j ...  0.0000000e+00+0.0000000e+00j\n",
      "   0.0000000e+00+0.0000000e+00j  0.0000000e+00+0.0000000e+00j]\n",
      " ...\n",
      " [-1.6914140e-24-5.0731970e-25j -5.2353156e-24-7.8842088e-24j\n",
      "   2.4987088e-24+2.8806145e-24j ...  0.0000000e+00+0.0000000e+00j\n",
      "   0.0000000e+00+0.0000000e+00j  0.0000000e+00+0.0000000e+00j]\n",
      " [ 2.7691980e-24+3.0377491e-24j -7.2816058e-24+5.2890229e-24j\n",
      "  -2.1661276e-24-4.0818093e-24j ...  0.0000000e+00+0.0000000e+00j\n",
      "   0.0000000e+00+0.0000000e+00j  0.0000000e+00+0.0000000e+00j]\n",
      " [ 1.2431530e-24-1.8716565e-24j  3.9431946e-24+4.4689968e-24j\n",
      "  -2.0790926e-24+4.4985010e-24j ...  0.0000000e+00+0.0000000e+00j\n",
      "   0.0000000e+00+0.0000000e+00j  0.0000000e+00+0.0000000e+00j]]\n",
      "[1256656566 1256664858 1256666658 ...          0          0          0]\n",
      "[306.4        306.40055556 306.40111111 306.40166667 306.40222222\n",
      " 306.40277778 306.40333333 306.40388889 306.40444444 306.405\n",
      " 306.40555556 306.40611111 306.40666667 306.40722222 306.40777778\n",
      " 306.40833333 306.40888889 306.40944444 306.41       306.41055556\n",
      " 306.41111111 306.41166667 306.41222222 306.41277778 306.41333333\n",
      " 306.41388889 306.41444444 306.415      306.41555556 306.41611111\n",
      " 306.41666667 306.41722222 306.41777778 306.41833333 306.41888889\n",
      " 306.41944444 306.42       306.42055556 306.42111111 306.42166667\n",
      " 306.42222222 306.42277778 306.42333333 306.42388889 306.42444444\n",
      " 306.425      306.42555556 306.42611111 306.42666667 306.42722222\n",
      " 306.42777778 306.42833333 306.42888889 306.42944444 306.43\n",
      " 306.43055556 306.43111111 306.43166667 306.43222222 306.43277778\n",
      " 306.43333333 306.43388889 306.43444444 306.435      306.43555556\n",
      " 306.43611111 306.43666667 306.43722222 306.43777778 306.43833333\n",
      " 306.43888889 306.43944444 306.44       306.44055556 306.44111111\n",
      " 306.44166667 306.44222222 306.44277778 306.44333333 306.44388889\n",
      " 306.44444444 306.445      306.44555556 306.44611111 306.44666667\n",
      " 306.44722222 306.44777778 306.44833333 306.44888889 306.44944444\n",
      " 306.45       306.45055556 306.45111111 306.45166667 306.45222222\n",
      " 306.45277778 306.45333333 306.45388889 306.45444444 306.455\n",
      " 306.45555556 306.45611111 306.45666667 306.45722222 306.45777778\n",
      " 306.45833333 306.45888889 306.45944444 306.46       306.46055556\n",
      " 306.46111111 306.46166667 306.46222222 306.46277778 306.46333333\n",
      " 306.46388889 306.46444444 306.465      306.46555556 306.46611111\n",
      " 306.46666667 306.46722222 306.46777778 306.46833333 306.46888889\n",
      " 306.46944444 306.47       306.47055556 306.47111111 306.47166667\n",
      " 306.47222222 306.47277778 306.47333333 306.47388889 306.47444444\n",
      " 306.475      306.47555556 306.47611111 306.47666667 306.47722222\n",
      " 306.47777778 306.47833333 306.47888889 306.47944444 306.48\n",
      " 306.48055556 306.48111111 306.48166667 306.48222222 306.48277778\n",
      " 306.48333333 306.48388889 306.48444444 306.485      306.48555556\n",
      " 306.48611111 306.48666667 306.48722222 306.48777778 306.48833333\n",
      " 306.48888889 306.48944444 306.49       306.49055556 306.49111111\n",
      " 306.49166667 306.49222222 306.49277778 306.49333333 306.49388889\n",
      " 306.49444444 306.495      306.49555556 306.49611111 306.49666667\n",
      " 306.49722222 306.49777778 306.49833333 306.49888889 306.49944444\n",
      " 306.5        306.50055556 306.50111111 306.50166667 306.50222222\n",
      " 306.50277778 306.50333333 306.50388889 306.50444444 306.505\n",
      " 306.50555556 306.50611111 306.50666667 306.50722222 306.50777778\n",
      " 306.50833333 306.50888889 306.50944444 306.51       306.51055556\n",
      " 306.51111111 306.51166667 306.51222222 306.51277778 306.51333333\n",
      " 306.51388889 306.51444444 306.515      306.51555556 306.51611111\n",
      " 306.51666667 306.51722222 306.51777778 306.51833333 306.51888889\n",
      " 306.51944444 306.52       306.52055556 306.52111111 306.52166667\n",
      " 306.52222222 306.52277778 306.52333333 306.52388889 306.52444444\n",
      " 306.525      306.52555556 306.52611111 306.52666667 306.52722222\n",
      " 306.52777778 306.52833333 306.52888889 306.52944444 306.53\n",
      " 306.53055556 306.53111111 306.53166667 306.53222222 306.53277778\n",
      " 306.53333333 306.53388889 306.53444444 306.535      306.53555556\n",
      " 306.53611111 306.53666667 306.53722222 306.53777778 306.53833333\n",
      " 306.53888889 306.53944444 306.54       306.54055556 306.54111111\n",
      " 306.54166667 306.54222222 306.54277778 306.54333333 306.54388889\n",
      " 306.54444444 306.545      306.54555556 306.54611111 306.54666667\n",
      " 306.54722222 306.54777778 306.54833333 306.54888889 306.54944444\n",
      " 306.55       306.55055556 306.55111111 306.55166667 306.55222222\n",
      " 306.55277778 306.55333333 306.55388889 306.55444444 306.555\n",
      " 306.55555556 306.55611111 306.55666667 306.55722222 306.55777778\n",
      " 306.55833333 306.55888889 306.55944444 306.56       306.56055556\n",
      " 306.56111111 306.56166667 306.56222222 306.56277778 306.56333333\n",
      " 306.56388889 306.56444444 306.565      306.56555556 306.56611111\n",
      " 306.56666667 306.56722222 306.56777778 306.56833333 306.56888889\n",
      " 306.56944444 306.57       306.57055556 306.57111111 306.57166667\n",
      " 306.57222222 306.57277778 306.57333333 306.57388889 306.57444444\n",
      " 306.575      306.57555556 306.57611111 306.57666667 306.57722222\n",
      " 306.57777778 306.57833333 306.57888889 306.57944444 306.58\n",
      " 306.58055556 306.58111111 306.58166667 306.58222222 306.58277778\n",
      " 306.58333333 306.58388889 306.58444444 306.585      306.58555556\n",
      " 306.58611111 306.58666667 306.58722222 306.58777778 306.58833333\n",
      " 306.58888889 306.58944444 306.59       306.59055556 306.59111111\n",
      " 306.59166667 306.59222222 306.59277778 306.59333333 306.59388889\n",
      " 306.59444444 306.595      306.59555556 306.59611111 306.59666667\n",
      " 306.59722222 306.59777778 306.59833333 306.59888889 306.59944444]\n"
     ]
    }
   ],
   "source": [
    "print(len(datasets))\n",
    "for dataset in datasets:\n",
    "    print(dataset)"
   ]
  },
  {
   "cell_type": "code",
   "execution_count": 27,
   "metadata": {},
   "outputs": [
    {
     "name": "stdout",
     "output_type": "stream",
     "text": [
      "[ 4.3973976e-25-5.3621132e-24j -5.2641075e-24-5.6829910e-24j\n",
      " -3.9830427e-24-2.8649953e-24j -4.2510314e-24+2.2693031e-24j\n",
      "  0.0000000e+00+0.0000000e+00j  0.0000000e+00+0.0000000e+00j\n",
      "  2.7010247e-25-1.4042892e-24j  4.2808208e-25+3.7640183e-24j\n",
      "  0.0000000e+00+0.0000000e+00j  0.0000000e+00+0.0000000e+00j]\n",
      "[1256656566 1256664858 1256666658 1256668458          0          0\n",
      " 1256674591 1256676391          0          0]\n"
     ]
    }
   ],
   "source": [
    "print(datasets[0][0][:10])\n",
    "print(datasets[1][:10])"
   ]
  },
  {
   "cell_type": "code",
   "execution_count": 28,
   "metadata": {},
   "outputs": [
    {
     "ename": "ValueError",
     "evalue": "Invalid vmin or vmax",
     "output_type": "error",
     "traceback": [
      "\u001b[1;31m---------------------------------------------------------------------------\u001b[0m",
      "\u001b[1;31mValueError\u001b[0m                                Traceback (most recent call last)",
      "Cell \u001b[1;32mIn[28], line 24\u001b[0m\n\u001b[0;32m     21\u001b[0m     fig\u001b[39m.\u001b[39mcolorbar(im0, ax \u001b[39m=\u001b[39m ax)\n\u001b[0;32m     22\u001b[0m     plt\u001b[39m.\u001b[39mshow()\n\u001b[1;32m---> 24\u001b[0m plot_sfts(datasets[\u001b[39m2\u001b[39;49m],datasets[\u001b[39m1\u001b[39;49m],datasets[\u001b[39m0\u001b[39;49m])\n",
      "Cell \u001b[1;32mIn[28], line 21\u001b[0m, in \u001b[0;36mplot_sfts\u001b[1;34m(fr, tmstps, sfts)\u001b[0m\n\u001b[0;32m     19\u001b[0m ax\u001b[39m.\u001b[39mset_ylabel(\u001b[39m'\u001b[39m\u001b[39mFrequency, Hz\u001b[39m\u001b[39m'\u001b[39m)\n\u001b[0;32m     20\u001b[0m \u001b[39m# add colorbar to each axis\u001b[39;00m\n\u001b[1;32m---> 21\u001b[0m fig\u001b[39m.\u001b[39;49mcolorbar(im0, ax \u001b[39m=\u001b[39;49m ax)\n\u001b[0;32m     22\u001b[0m plt\u001b[39m.\u001b[39mshow()\n",
      "File \u001b[1;32mc:\\Users\\frede\\AppData\\Local\\Programs\\Python\\Python310\\lib\\site-packages\\matplotlib\\figure.py:1293\u001b[0m, in \u001b[0;36mFigureBase.colorbar\u001b[1;34m(self, mappable, cax, ax, use_gridspec, **kwargs)\u001b[0m\n\u001b[0;32m   1289\u001b[0m NON_COLORBAR_KEYS \u001b[39m=\u001b[39m [\u001b[39m'\u001b[39m\u001b[39mfraction\u001b[39m\u001b[39m'\u001b[39m, \u001b[39m'\u001b[39m\u001b[39mpad\u001b[39m\u001b[39m'\u001b[39m, \u001b[39m'\u001b[39m\u001b[39mshrink\u001b[39m\u001b[39m'\u001b[39m, \u001b[39m'\u001b[39m\u001b[39maspect\u001b[39m\u001b[39m'\u001b[39m, \u001b[39m'\u001b[39m\u001b[39manchor\u001b[39m\u001b[39m'\u001b[39m,\n\u001b[0;32m   1290\u001b[0m                      \u001b[39m'\u001b[39m\u001b[39mpanchor\u001b[39m\u001b[39m'\u001b[39m]\n\u001b[0;32m   1291\u001b[0m cb_kw \u001b[39m=\u001b[39m {k: v \u001b[39mfor\u001b[39;00m k, v \u001b[39min\u001b[39;00m kwargs\u001b[39m.\u001b[39mitems() \u001b[39mif\u001b[39;00m k \u001b[39mnot\u001b[39;00m \u001b[39min\u001b[39;00m NON_COLORBAR_KEYS}\n\u001b[1;32m-> 1293\u001b[0m cb \u001b[39m=\u001b[39m cbar\u001b[39m.\u001b[39mColorbar(cax, mappable, \u001b[39m*\u001b[39m\u001b[39m*\u001b[39mcb_kw)\n\u001b[0;32m   1295\u001b[0m \u001b[39mif\u001b[39;00m \u001b[39mnot\u001b[39;00m userax:\n\u001b[0;32m   1296\u001b[0m     \u001b[39mself\u001b[39m\u001b[39m.\u001b[39msca(current_ax)\n",
      "File \u001b[1;32mc:\\Users\\frede\\AppData\\Local\\Programs\\Python\\Python310\\lib\\site-packages\\matplotlib\\_api\\deprecation.py:384\u001b[0m, in \u001b[0;36mdelete_parameter.<locals>.wrapper\u001b[1;34m(*inner_args, **inner_kwargs)\u001b[0m\n\u001b[0;32m    379\u001b[0m \u001b[39m@functools\u001b[39m\u001b[39m.\u001b[39mwraps(func)\n\u001b[0;32m    380\u001b[0m \u001b[39mdef\u001b[39;00m \u001b[39mwrapper\u001b[39m(\u001b[39m*\u001b[39minner_args, \u001b[39m*\u001b[39m\u001b[39m*\u001b[39minner_kwargs):\n\u001b[0;32m    381\u001b[0m     \u001b[39mif\u001b[39;00m \u001b[39mlen\u001b[39m(inner_args) \u001b[39m<\u001b[39m\u001b[39m=\u001b[39m name_idx \u001b[39mand\u001b[39;00m name \u001b[39mnot\u001b[39;00m \u001b[39min\u001b[39;00m inner_kwargs:\n\u001b[0;32m    382\u001b[0m         \u001b[39m# Early return in the simple, non-deprecated case (much faster than\u001b[39;00m\n\u001b[0;32m    383\u001b[0m         \u001b[39m# calling bind()).\u001b[39;00m\n\u001b[1;32m--> 384\u001b[0m         \u001b[39mreturn\u001b[39;00m func(\u001b[39m*\u001b[39minner_args, \u001b[39m*\u001b[39m\u001b[39m*\u001b[39minner_kwargs)\n\u001b[0;32m    385\u001b[0m     arguments \u001b[39m=\u001b[39m signature\u001b[39m.\u001b[39mbind(\u001b[39m*\u001b[39minner_args, \u001b[39m*\u001b[39m\u001b[39m*\u001b[39minner_kwargs)\u001b[39m.\u001b[39marguments\n\u001b[0;32m    386\u001b[0m     \u001b[39mif\u001b[39;00m is_varargs \u001b[39mand\u001b[39;00m arguments\u001b[39m.\u001b[39mget(name):\n",
      "File \u001b[1;32mc:\\Users\\frede\\AppData\\Local\\Programs\\Python\\Python310\\lib\\site-packages\\matplotlib\\colorbar.py:402\u001b[0m, in \u001b[0;36mColorbar.__init__\u001b[1;34m(self, ax, mappable, cmap, norm, alpha, values, boundaries, orientation, ticklocation, extend, spacing, ticks, format, drawedges, filled, extendfrac, extendrect, label, location)\u001b[0m\n\u001b[0;32m    399\u001b[0m \u001b[39mself\u001b[39m\u001b[39m.\u001b[39mticklocation \u001b[39m=\u001b[39m ticklocation\n\u001b[0;32m    401\u001b[0m \u001b[39mself\u001b[39m\u001b[39m.\u001b[39mset_label(label)\n\u001b[1;32m--> 402\u001b[0m \u001b[39mself\u001b[39;49m\u001b[39m.\u001b[39;49m_reset_locator_formatter_scale()\n\u001b[0;32m    404\u001b[0m \u001b[39mif\u001b[39;00m np\u001b[39m.\u001b[39miterable(ticks):\n\u001b[0;32m    405\u001b[0m     \u001b[39mself\u001b[39m\u001b[39m.\u001b[39m_locator \u001b[39m=\u001b[39m ticker\u001b[39m.\u001b[39mFixedLocator(ticks, nbins\u001b[39m=\u001b[39m\u001b[39mlen\u001b[39m(ticks))\n",
      "File \u001b[1;32mc:\\Users\\frede\\AppData\\Local\\Programs\\Python\\Python310\\lib\\site-packages\\matplotlib\\colorbar.py:1173\u001b[0m, in \u001b[0;36mColorbar._reset_locator_formatter_scale\u001b[1;34m(self)\u001b[0m\n\u001b[0;32m   1167\u001b[0m \u001b[39mdef\u001b[39;00m \u001b[39m_reset_locator_formatter_scale\u001b[39m(\u001b[39mself\u001b[39m):\n\u001b[0;32m   1168\u001b[0m \u001b[39m    \u001b[39m\u001b[39m\"\"\"\u001b[39;00m\n\u001b[0;32m   1169\u001b[0m \u001b[39m    Reset the locator et al to defaults.  Any user-hardcoded changes\u001b[39;00m\n\u001b[0;32m   1170\u001b[0m \u001b[39m    need to be re-entered if this gets called (either at init, or when\u001b[39;00m\n\u001b[0;32m   1171\u001b[0m \u001b[39m    the mappable normal gets changed: Colorbar.update_normal)\u001b[39;00m\n\u001b[0;32m   1172\u001b[0m \u001b[39m    \"\"\"\u001b[39;00m\n\u001b[1;32m-> 1173\u001b[0m     \u001b[39mself\u001b[39;49m\u001b[39m.\u001b[39;49m_process_values()\n\u001b[0;32m   1174\u001b[0m     \u001b[39mself\u001b[39m\u001b[39m.\u001b[39m_locator \u001b[39m=\u001b[39m \u001b[39mNone\u001b[39;00m\n\u001b[0;32m   1175\u001b[0m     \u001b[39mself\u001b[39m\u001b[39m.\u001b[39m_minorlocator \u001b[39m=\u001b[39m \u001b[39mNone\u001b[39;00m\n",
      "File \u001b[1;32mc:\\Users\\frede\\AppData\\Local\\Programs\\Python\\Python310\\lib\\site-packages\\matplotlib\\colorbar.py:1111\u001b[0m, in \u001b[0;36mColorbar._process_values\u001b[1;34m(self)\u001b[0m\n\u001b[0;32m   1107\u001b[0m \u001b[39mself\u001b[39m\u001b[39m.\u001b[39mnorm\u001b[39m.\u001b[39mvmin, \u001b[39mself\u001b[39m\u001b[39m.\u001b[39mnorm\u001b[39m.\u001b[39mvmax \u001b[39m=\u001b[39m mtransforms\u001b[39m.\u001b[39mnonsingular(\n\u001b[0;32m   1108\u001b[0m     \u001b[39mself\u001b[39m\u001b[39m.\u001b[39mnorm\u001b[39m.\u001b[39mvmin, \u001b[39mself\u001b[39m\u001b[39m.\u001b[39mnorm\u001b[39m.\u001b[39mvmax, expander\u001b[39m=\u001b[39m\u001b[39m0.1\u001b[39m)\n\u001b[0;32m   1109\u001b[0m \u001b[39mif\u001b[39;00m (\u001b[39mnot\u001b[39;00m \u001b[39misinstance\u001b[39m(\u001b[39mself\u001b[39m\u001b[39m.\u001b[39mnorm, colors\u001b[39m.\u001b[39mBoundaryNorm) \u001b[39mand\u001b[39;00m\n\u001b[0;32m   1110\u001b[0m         (\u001b[39mself\u001b[39m\u001b[39m.\u001b[39mboundaries \u001b[39mis\u001b[39;00m \u001b[39mNone\u001b[39;00m)):\n\u001b[1;32m-> 1111\u001b[0m     b \u001b[39m=\u001b[39m \u001b[39mself\u001b[39;49m\u001b[39m.\u001b[39;49mnorm\u001b[39m.\u001b[39;49minverse(b)\n\u001b[0;32m   1113\u001b[0m \u001b[39mself\u001b[39m\u001b[39m.\u001b[39m_boundaries \u001b[39m=\u001b[39m np\u001b[39m.\u001b[39masarray(b, dtype\u001b[39m=\u001b[39m\u001b[39mfloat\u001b[39m)\n\u001b[0;32m   1114\u001b[0m \u001b[39mself\u001b[39m\u001b[39m.\u001b[39m_values \u001b[39m=\u001b[39m \u001b[39m0.5\u001b[39m \u001b[39m*\u001b[39m (\u001b[39mself\u001b[39m\u001b[39m.\u001b[39m_boundaries[:\u001b[39m-\u001b[39m\u001b[39m1\u001b[39m] \u001b[39m+\u001b[39m \u001b[39mself\u001b[39m\u001b[39m.\u001b[39m_boundaries[\u001b[39m1\u001b[39m:])\n",
      "File \u001b[1;32mc:\\Users\\frede\\AppData\\Local\\Programs\\Python\\Python310\\lib\\site-packages\\matplotlib\\colors.py:1724\u001b[0m, in \u001b[0;36m_make_norm_from_scale.<locals>.Norm.inverse\u001b[1;34m(self, value)\u001b[0m\n\u001b[0;32m   1722\u001b[0m t_vmin, t_vmax \u001b[39m=\u001b[39m \u001b[39mself\u001b[39m\u001b[39m.\u001b[39m_trf\u001b[39m.\u001b[39mtransform([\u001b[39mself\u001b[39m\u001b[39m.\u001b[39mvmin, \u001b[39mself\u001b[39m\u001b[39m.\u001b[39mvmax])\n\u001b[0;32m   1723\u001b[0m \u001b[39mif\u001b[39;00m \u001b[39mnot\u001b[39;00m np\u001b[39m.\u001b[39misfinite([t_vmin, t_vmax])\u001b[39m.\u001b[39mall():\n\u001b[1;32m-> 1724\u001b[0m     \u001b[39mraise\u001b[39;00m \u001b[39mValueError\u001b[39;00m(\u001b[39m\"\u001b[39m\u001b[39mInvalid vmin or vmax\u001b[39m\u001b[39m\"\u001b[39m)\n\u001b[0;32m   1725\u001b[0m value, is_scalar \u001b[39m=\u001b[39m \u001b[39mself\u001b[39m\u001b[39m.\u001b[39mprocess_value(value)\n\u001b[0;32m   1726\u001b[0m rescaled \u001b[39m=\u001b[39m value \u001b[39m*\u001b[39m (t_vmax \u001b[39m-\u001b[39m t_vmin)\n",
      "\u001b[1;31mValueError\u001b[0m: Invalid vmin or vmax"
     ]
    },
    {
     "name": "stdout",
     "output_type": "stream",
     "text": [
      "Error in callback <function _draw_all_if_interactive at 0x000001F26AFE0A60> (for post_execute):\n"
     ]
    },
    {
     "ename": "ValueError",
     "evalue": "vmin must be less or equal to vmax",
     "output_type": "error",
     "traceback": [
      "\u001b[1;31m---------------------------------------------------------------------------\u001b[0m",
      "\u001b[1;31mValueError\u001b[0m                                Traceback (most recent call last)",
      "File \u001b[1;32mc:\\Users\\frede\\AppData\\Local\\Programs\\Python\\Python310\\lib\\site-packages\\matplotlib\\pyplot.py:120\u001b[0m, in \u001b[0;36m_draw_all_if_interactive\u001b[1;34m()\u001b[0m\n\u001b[0;32m    118\u001b[0m \u001b[39mdef\u001b[39;00m \u001b[39m_draw_all_if_interactive\u001b[39m():\n\u001b[0;32m    119\u001b[0m     \u001b[39mif\u001b[39;00m matplotlib\u001b[39m.\u001b[39mis_interactive():\n\u001b[1;32m--> 120\u001b[0m         draw_all()\n",
      "File \u001b[1;32mc:\\Users\\frede\\AppData\\Local\\Programs\\Python\\Python310\\lib\\site-packages\\matplotlib\\_pylab_helpers.py:132\u001b[0m, in \u001b[0;36mGcf.draw_all\u001b[1;34m(cls, force)\u001b[0m\n\u001b[0;32m    130\u001b[0m \u001b[39mfor\u001b[39;00m manager \u001b[39min\u001b[39;00m \u001b[39mcls\u001b[39m\u001b[39m.\u001b[39mget_all_fig_managers():\n\u001b[0;32m    131\u001b[0m     \u001b[39mif\u001b[39;00m force \u001b[39mor\u001b[39;00m manager\u001b[39m.\u001b[39mcanvas\u001b[39m.\u001b[39mfigure\u001b[39m.\u001b[39mstale:\n\u001b[1;32m--> 132\u001b[0m         manager\u001b[39m.\u001b[39;49mcanvas\u001b[39m.\u001b[39;49mdraw_idle()\n",
      "File \u001b[1;32mc:\\Users\\frede\\AppData\\Local\\Programs\\Python\\Python310\\lib\\site-packages\\matplotlib\\backend_bases.py:2082\u001b[0m, in \u001b[0;36mFigureCanvasBase.draw_idle\u001b[1;34m(self, *args, **kwargs)\u001b[0m\n\u001b[0;32m   2080\u001b[0m \u001b[39mif\u001b[39;00m \u001b[39mnot\u001b[39;00m \u001b[39mself\u001b[39m\u001b[39m.\u001b[39m_is_idle_drawing:\n\u001b[0;32m   2081\u001b[0m     \u001b[39mwith\u001b[39;00m \u001b[39mself\u001b[39m\u001b[39m.\u001b[39m_idle_draw_cntx():\n\u001b[1;32m-> 2082\u001b[0m         \u001b[39mself\u001b[39m\u001b[39m.\u001b[39mdraw(\u001b[39m*\u001b[39margs, \u001b[39m*\u001b[39m\u001b[39m*\u001b[39mkwargs)\n",
      "File \u001b[1;32mc:\\Users\\frede\\AppData\\Local\\Programs\\Python\\Python310\\lib\\site-packages\\matplotlib\\backends\\backend_agg.py:400\u001b[0m, in \u001b[0;36mFigureCanvasAgg.draw\u001b[1;34m(self)\u001b[0m\n\u001b[0;32m    396\u001b[0m \u001b[39m# Acquire a lock on the shared font cache.\u001b[39;00m\n\u001b[0;32m    397\u001b[0m \u001b[39mwith\u001b[39;00m RendererAgg\u001b[39m.\u001b[39mlock, \\\n\u001b[0;32m    398\u001b[0m      (\u001b[39mself\u001b[39m\u001b[39m.\u001b[39mtoolbar\u001b[39m.\u001b[39m_wait_cursor_for_draw_cm() \u001b[39mif\u001b[39;00m \u001b[39mself\u001b[39m\u001b[39m.\u001b[39mtoolbar\n\u001b[0;32m    399\u001b[0m       \u001b[39melse\u001b[39;00m nullcontext()):\n\u001b[1;32m--> 400\u001b[0m     \u001b[39mself\u001b[39;49m\u001b[39m.\u001b[39;49mfigure\u001b[39m.\u001b[39;49mdraw(\u001b[39mself\u001b[39;49m\u001b[39m.\u001b[39;49mrenderer)\n\u001b[0;32m    401\u001b[0m     \u001b[39m# A GUI class may be need to update a window using this draw, so\u001b[39;00m\n\u001b[0;32m    402\u001b[0m     \u001b[39m# don't forget to call the superclass.\u001b[39;00m\n\u001b[0;32m    403\u001b[0m     \u001b[39msuper\u001b[39m()\u001b[39m.\u001b[39mdraw()\n",
      "File \u001b[1;32mc:\\Users\\frede\\AppData\\Local\\Programs\\Python\\Python310\\lib\\site-packages\\matplotlib\\artist.py:95\u001b[0m, in \u001b[0;36m_finalize_rasterization.<locals>.draw_wrapper\u001b[1;34m(artist, renderer, *args, **kwargs)\u001b[0m\n\u001b[0;32m     93\u001b[0m \u001b[39m@wraps\u001b[39m(draw)\n\u001b[0;32m     94\u001b[0m \u001b[39mdef\u001b[39;00m \u001b[39mdraw_wrapper\u001b[39m(artist, renderer, \u001b[39m*\u001b[39margs, \u001b[39m*\u001b[39m\u001b[39m*\u001b[39mkwargs):\n\u001b[1;32m---> 95\u001b[0m     result \u001b[39m=\u001b[39m draw(artist, renderer, \u001b[39m*\u001b[39margs, \u001b[39m*\u001b[39m\u001b[39m*\u001b[39mkwargs)\n\u001b[0;32m     96\u001b[0m     \u001b[39mif\u001b[39;00m renderer\u001b[39m.\u001b[39m_rasterizing:\n\u001b[0;32m     97\u001b[0m         renderer\u001b[39m.\u001b[39mstop_rasterizing()\n",
      "File \u001b[1;32mc:\\Users\\frede\\AppData\\Local\\Programs\\Python\\Python310\\lib\\site-packages\\matplotlib\\artist.py:72\u001b[0m, in \u001b[0;36mallow_rasterization.<locals>.draw_wrapper\u001b[1;34m(artist, renderer)\u001b[0m\n\u001b[0;32m     69\u001b[0m     \u001b[39mif\u001b[39;00m artist\u001b[39m.\u001b[39mget_agg_filter() \u001b[39mis\u001b[39;00m \u001b[39mnot\u001b[39;00m \u001b[39mNone\u001b[39;00m:\n\u001b[0;32m     70\u001b[0m         renderer\u001b[39m.\u001b[39mstart_filter()\n\u001b[1;32m---> 72\u001b[0m     \u001b[39mreturn\u001b[39;00m draw(artist, renderer)\n\u001b[0;32m     73\u001b[0m \u001b[39mfinally\u001b[39;00m:\n\u001b[0;32m     74\u001b[0m     \u001b[39mif\u001b[39;00m artist\u001b[39m.\u001b[39mget_agg_filter() \u001b[39mis\u001b[39;00m \u001b[39mnot\u001b[39;00m \u001b[39mNone\u001b[39;00m:\n",
      "File \u001b[1;32mc:\\Users\\frede\\AppData\\Local\\Programs\\Python\\Python310\\lib\\site-packages\\matplotlib\\figure.py:3140\u001b[0m, in \u001b[0;36mFigure.draw\u001b[1;34m(self, renderer)\u001b[0m\n\u001b[0;32m   3137\u001b[0m         \u001b[39m# ValueError can occur when resizing a window.\u001b[39;00m\n\u001b[0;32m   3139\u001b[0m \u001b[39mself\u001b[39m\u001b[39m.\u001b[39mpatch\u001b[39m.\u001b[39mdraw(renderer)\n\u001b[1;32m-> 3140\u001b[0m mimage\u001b[39m.\u001b[39;49m_draw_list_compositing_images(\n\u001b[0;32m   3141\u001b[0m     renderer, \u001b[39mself\u001b[39;49m, artists, \u001b[39mself\u001b[39;49m\u001b[39m.\u001b[39;49msuppressComposite)\n\u001b[0;32m   3143\u001b[0m \u001b[39mfor\u001b[39;00m sfig \u001b[39min\u001b[39;00m \u001b[39mself\u001b[39m\u001b[39m.\u001b[39msubfigs:\n\u001b[0;32m   3144\u001b[0m     sfig\u001b[39m.\u001b[39mdraw(renderer)\n",
      "File \u001b[1;32mc:\\Users\\frede\\AppData\\Local\\Programs\\Python\\Python310\\lib\\site-packages\\matplotlib\\image.py:131\u001b[0m, in \u001b[0;36m_draw_list_compositing_images\u001b[1;34m(renderer, parent, artists, suppress_composite)\u001b[0m\n\u001b[0;32m    129\u001b[0m \u001b[39mif\u001b[39;00m not_composite \u001b[39mor\u001b[39;00m \u001b[39mnot\u001b[39;00m has_images:\n\u001b[0;32m    130\u001b[0m     \u001b[39mfor\u001b[39;00m a \u001b[39min\u001b[39;00m artists:\n\u001b[1;32m--> 131\u001b[0m         a\u001b[39m.\u001b[39;49mdraw(renderer)\n\u001b[0;32m    132\u001b[0m \u001b[39melse\u001b[39;00m:\n\u001b[0;32m    133\u001b[0m     \u001b[39m# Composite any adjacent images together\u001b[39;00m\n\u001b[0;32m    134\u001b[0m     image_group \u001b[39m=\u001b[39m []\n",
      "File \u001b[1;32mc:\\Users\\frede\\AppData\\Local\\Programs\\Python\\Python310\\lib\\site-packages\\matplotlib\\artist.py:72\u001b[0m, in \u001b[0;36mallow_rasterization.<locals>.draw_wrapper\u001b[1;34m(artist, renderer)\u001b[0m\n\u001b[0;32m     69\u001b[0m     \u001b[39mif\u001b[39;00m artist\u001b[39m.\u001b[39mget_agg_filter() \u001b[39mis\u001b[39;00m \u001b[39mnot\u001b[39;00m \u001b[39mNone\u001b[39;00m:\n\u001b[0;32m     70\u001b[0m         renderer\u001b[39m.\u001b[39mstart_filter()\n\u001b[1;32m---> 72\u001b[0m     \u001b[39mreturn\u001b[39;00m draw(artist, renderer)\n\u001b[0;32m     73\u001b[0m \u001b[39mfinally\u001b[39;00m:\n\u001b[0;32m     74\u001b[0m     \u001b[39mif\u001b[39;00m artist\u001b[39m.\u001b[39mget_agg_filter() \u001b[39mis\u001b[39;00m \u001b[39mnot\u001b[39;00m \u001b[39mNone\u001b[39;00m:\n",
      "File \u001b[1;32mc:\\Users\\frede\\AppData\\Local\\Programs\\Python\\Python310\\lib\\site-packages\\matplotlib\\axes\\_base.py:3064\u001b[0m, in \u001b[0;36m_AxesBase.draw\u001b[1;34m(self, renderer)\u001b[0m\n\u001b[0;32m   3061\u001b[0m \u001b[39mif\u001b[39;00m artists_rasterized:\n\u001b[0;32m   3062\u001b[0m     _draw_rasterized(\u001b[39mself\u001b[39m\u001b[39m.\u001b[39mfigure, artists_rasterized, renderer)\n\u001b[1;32m-> 3064\u001b[0m mimage\u001b[39m.\u001b[39;49m_draw_list_compositing_images(\n\u001b[0;32m   3065\u001b[0m     renderer, \u001b[39mself\u001b[39;49m, artists, \u001b[39mself\u001b[39;49m\u001b[39m.\u001b[39;49mfigure\u001b[39m.\u001b[39;49msuppressComposite)\n\u001b[0;32m   3067\u001b[0m renderer\u001b[39m.\u001b[39mclose_group(\u001b[39m'\u001b[39m\u001b[39maxes\u001b[39m\u001b[39m'\u001b[39m)\n\u001b[0;32m   3068\u001b[0m \u001b[39mself\u001b[39m\u001b[39m.\u001b[39mstale \u001b[39m=\u001b[39m \u001b[39mFalse\u001b[39;00m\n",
      "File \u001b[1;32mc:\\Users\\frede\\AppData\\Local\\Programs\\Python\\Python310\\lib\\site-packages\\matplotlib\\image.py:131\u001b[0m, in \u001b[0;36m_draw_list_compositing_images\u001b[1;34m(renderer, parent, artists, suppress_composite)\u001b[0m\n\u001b[0;32m    129\u001b[0m \u001b[39mif\u001b[39;00m not_composite \u001b[39mor\u001b[39;00m \u001b[39mnot\u001b[39;00m has_images:\n\u001b[0;32m    130\u001b[0m     \u001b[39mfor\u001b[39;00m a \u001b[39min\u001b[39;00m artists:\n\u001b[1;32m--> 131\u001b[0m         a\u001b[39m.\u001b[39;49mdraw(renderer)\n\u001b[0;32m    132\u001b[0m \u001b[39melse\u001b[39;00m:\n\u001b[0;32m    133\u001b[0m     \u001b[39m# Composite any adjacent images together\u001b[39;00m\n\u001b[0;32m    134\u001b[0m     image_group \u001b[39m=\u001b[39m []\n",
      "File \u001b[1;32mc:\\Users\\frede\\AppData\\Local\\Programs\\Python\\Python310\\lib\\site-packages\\matplotlib\\artist.py:72\u001b[0m, in \u001b[0;36mallow_rasterization.<locals>.draw_wrapper\u001b[1;34m(artist, renderer)\u001b[0m\n\u001b[0;32m     69\u001b[0m     \u001b[39mif\u001b[39;00m artist\u001b[39m.\u001b[39mget_agg_filter() \u001b[39mis\u001b[39;00m \u001b[39mnot\u001b[39;00m \u001b[39mNone\u001b[39;00m:\n\u001b[0;32m     70\u001b[0m         renderer\u001b[39m.\u001b[39mstart_filter()\n\u001b[1;32m---> 72\u001b[0m     \u001b[39mreturn\u001b[39;00m draw(artist, renderer)\n\u001b[0;32m     73\u001b[0m \u001b[39mfinally\u001b[39;00m:\n\u001b[0;32m     74\u001b[0m     \u001b[39mif\u001b[39;00m artist\u001b[39m.\u001b[39mget_agg_filter() \u001b[39mis\u001b[39;00m \u001b[39mnot\u001b[39;00m \u001b[39mNone\u001b[39;00m:\n",
      "File \u001b[1;32mc:\\Users\\frede\\AppData\\Local\\Programs\\Python\\Python310\\lib\\site-packages\\matplotlib\\image.py:641\u001b[0m, in \u001b[0;36m_ImageBase.draw\u001b[1;34m(self, renderer, *args, **kwargs)\u001b[0m\n\u001b[0;32m    639\u001b[0m         renderer\u001b[39m.\u001b[39mdraw_image(gc, l, b, im, trans)\n\u001b[0;32m    640\u001b[0m \u001b[39melse\u001b[39;00m:\n\u001b[1;32m--> 641\u001b[0m     im, l, b, trans \u001b[39m=\u001b[39m \u001b[39mself\u001b[39;49m\u001b[39m.\u001b[39;49mmake_image(\n\u001b[0;32m    642\u001b[0m         renderer, renderer\u001b[39m.\u001b[39;49mget_image_magnification())\n\u001b[0;32m    643\u001b[0m     \u001b[39mif\u001b[39;00m im \u001b[39mis\u001b[39;00m \u001b[39mnot\u001b[39;00m \u001b[39mNone\u001b[39;00m:\n\u001b[0;32m    644\u001b[0m         renderer\u001b[39m.\u001b[39mdraw_image(gc, l, b, im)\n",
      "File \u001b[1;32mc:\\Users\\frede\\AppData\\Local\\Programs\\Python\\Python310\\lib\\site-packages\\matplotlib\\image.py:949\u001b[0m, in \u001b[0;36mAxesImage.make_image\u001b[1;34m(self, renderer, magnification, unsampled)\u001b[0m\n\u001b[0;32m    946\u001b[0m transformed_bbox \u001b[39m=\u001b[39m TransformedBbox(bbox, trans)\n\u001b[0;32m    947\u001b[0m clip \u001b[39m=\u001b[39m ((\u001b[39mself\u001b[39m\u001b[39m.\u001b[39mget_clip_box() \u001b[39mor\u001b[39;00m \u001b[39mself\u001b[39m\u001b[39m.\u001b[39maxes\u001b[39m.\u001b[39mbbox) \u001b[39mif\u001b[39;00m \u001b[39mself\u001b[39m\u001b[39m.\u001b[39mget_clip_on()\n\u001b[0;32m    948\u001b[0m         \u001b[39melse\u001b[39;00m \u001b[39mself\u001b[39m\u001b[39m.\u001b[39mfigure\u001b[39m.\u001b[39mbbox)\n\u001b[1;32m--> 949\u001b[0m \u001b[39mreturn\u001b[39;00m \u001b[39mself\u001b[39;49m\u001b[39m.\u001b[39;49m_make_image(\u001b[39mself\u001b[39;49m\u001b[39m.\u001b[39;49m_A, bbox, transformed_bbox, clip,\n\u001b[0;32m    950\u001b[0m                         magnification, unsampled\u001b[39m=\u001b[39;49munsampled)\n",
      "File \u001b[1;32mc:\\Users\\frede\\AppData\\Local\\Programs\\Python\\Python310\\lib\\site-packages\\matplotlib\\image.py:545\u001b[0m, in \u001b[0;36m_ImageBase._make_image\u001b[1;34m(self, A, in_bbox, out_bbox, clip_bbox, magnification, unsampled, round_to_pixel_border)\u001b[0m\n\u001b[0;32m    541\u001b[0m     \u001b[39m# Block the norm from sending an update signal during the\u001b[39;00m\n\u001b[0;32m    542\u001b[0m     \u001b[39m# temporary vmin/vmax change\u001b[39;00m\n\u001b[0;32m    543\u001b[0m     \u001b[39mwith\u001b[39;00m \u001b[39mself\u001b[39m\u001b[39m.\u001b[39mnorm\u001b[39m.\u001b[39mcallbacks\u001b[39m.\u001b[39mblocked(), \\\n\u001b[0;32m    544\u001b[0m          cbook\u001b[39m.\u001b[39m_setattr_cm(\u001b[39mself\u001b[39m\u001b[39m.\u001b[39mnorm, vmin\u001b[39m=\u001b[39ms_vmin, vmax\u001b[39m=\u001b[39ms_vmax):\n\u001b[1;32m--> 545\u001b[0m         output \u001b[39m=\u001b[39m \u001b[39mself\u001b[39;49m\u001b[39m.\u001b[39;49mnorm(resampled_masked)\n\u001b[0;32m    546\u001b[0m \u001b[39melse\u001b[39;00m:\n\u001b[0;32m    547\u001b[0m     \u001b[39mif\u001b[39;00m A\u001b[39m.\u001b[39mndim \u001b[39m==\u001b[39m \u001b[39m2\u001b[39m:  \u001b[39m# _interpolation_stage == 'rgba'\u001b[39;00m\n",
      "File \u001b[1;32mc:\\Users\\frede\\AppData\\Local\\Programs\\Python\\Python310\\lib\\site-packages\\matplotlib\\colors.py:1701\u001b[0m, in \u001b[0;36m_make_norm_from_scale.<locals>.Norm.__call__\u001b[1;34m(self, value, clip)\u001b[0m\n\u001b[0;32m   1699\u001b[0m     \u001b[39mself\u001b[39m\u001b[39m.\u001b[39mautoscale_None(value)\n\u001b[0;32m   1700\u001b[0m \u001b[39mif\u001b[39;00m \u001b[39mself\u001b[39m\u001b[39m.\u001b[39mvmin \u001b[39m>\u001b[39m \u001b[39mself\u001b[39m\u001b[39m.\u001b[39mvmax:\n\u001b[1;32m-> 1701\u001b[0m     \u001b[39mraise\u001b[39;00m \u001b[39mValueError\u001b[39;00m(\u001b[39m\"\u001b[39m\u001b[39mvmin must be less or equal to vmax\u001b[39m\u001b[39m\"\u001b[39m)\n\u001b[0;32m   1702\u001b[0m \u001b[39mif\u001b[39;00m \u001b[39mself\u001b[39m\u001b[39m.\u001b[39mvmin \u001b[39m==\u001b[39m \u001b[39mself\u001b[39m\u001b[39m.\u001b[39mvmax:\n\u001b[0;32m   1703\u001b[0m     \u001b[39mreturn\u001b[39;00m np\u001b[39m.\u001b[39mfull_like(value, \u001b[39m0\u001b[39m)\n",
      "\u001b[1;31mValueError\u001b[0m: vmin must be less or equal to vmax"
     ]
    },
    {
     "ename": "ValueError",
     "evalue": "vmin must be less or equal to vmax",
     "output_type": "error",
     "traceback": [
      "\u001b[1;31m---------------------------------------------------------------------------\u001b[0m",
      "\u001b[1;31mValueError\u001b[0m                                Traceback (most recent call last)",
      "File \u001b[1;32m~\\AppData\\Roaming\\Python\\Python310\\site-packages\\IPython\\core\\formatters.py:338\u001b[0m, in \u001b[0;36mBaseFormatter.__call__\u001b[1;34m(self, obj)\u001b[0m\n\u001b[0;32m    336\u001b[0m     \u001b[39mpass\u001b[39;00m\n\u001b[0;32m    337\u001b[0m \u001b[39melse\u001b[39;00m:\n\u001b[1;32m--> 338\u001b[0m     \u001b[39mreturn\u001b[39;00m printer(obj)\n\u001b[0;32m    339\u001b[0m \u001b[39m# Finally look for special method names\u001b[39;00m\n\u001b[0;32m    340\u001b[0m method \u001b[39m=\u001b[39m get_real_method(obj, \u001b[39mself\u001b[39m\u001b[39m.\u001b[39mprint_method)\n",
      "File \u001b[1;32m~\\AppData\\Roaming\\Python\\Python310\\site-packages\\IPython\\core\\pylabtools.py:152\u001b[0m, in \u001b[0;36mprint_figure\u001b[1;34m(fig, fmt, bbox_inches, base64, **kwargs)\u001b[0m\n\u001b[0;32m    149\u001b[0m     \u001b[39mfrom\u001b[39;00m \u001b[39mmatplotlib\u001b[39;00m\u001b[39m.\u001b[39;00m\u001b[39mbackend_bases\u001b[39;00m \u001b[39mimport\u001b[39;00m FigureCanvasBase\n\u001b[0;32m    150\u001b[0m     FigureCanvasBase(fig)\n\u001b[1;32m--> 152\u001b[0m fig\u001b[39m.\u001b[39mcanvas\u001b[39m.\u001b[39mprint_figure(bytes_io, \u001b[39m*\u001b[39m\u001b[39m*\u001b[39mkw)\n\u001b[0;32m    153\u001b[0m data \u001b[39m=\u001b[39m bytes_io\u001b[39m.\u001b[39mgetvalue()\n\u001b[0;32m    154\u001b[0m \u001b[39mif\u001b[39;00m fmt \u001b[39m==\u001b[39m \u001b[39m'\u001b[39m\u001b[39msvg\u001b[39m\u001b[39m'\u001b[39m:\n",
      "File \u001b[1;32mc:\\Users\\frede\\AppData\\Local\\Programs\\Python\\Python310\\lib\\site-packages\\matplotlib\\backend_bases.py:2342\u001b[0m, in \u001b[0;36mFigureCanvasBase.print_figure\u001b[1;34m(self, filename, dpi, facecolor, edgecolor, orientation, format, bbox_inches, pad_inches, bbox_extra_artists, backend, **kwargs)\u001b[0m\n\u001b[0;32m   2336\u001b[0m     renderer \u001b[39m=\u001b[39m _get_renderer(\n\u001b[0;32m   2337\u001b[0m         \u001b[39mself\u001b[39m\u001b[39m.\u001b[39mfigure,\n\u001b[0;32m   2338\u001b[0m         functools\u001b[39m.\u001b[39mpartial(\n\u001b[0;32m   2339\u001b[0m             print_method, orientation\u001b[39m=\u001b[39morientation)\n\u001b[0;32m   2340\u001b[0m     )\n\u001b[0;32m   2341\u001b[0m     \u001b[39mwith\u001b[39;00m \u001b[39mgetattr\u001b[39m(renderer, \u001b[39m\"\u001b[39m\u001b[39m_draw_disabled\u001b[39m\u001b[39m\"\u001b[39m, nullcontext)():\n\u001b[1;32m-> 2342\u001b[0m         \u001b[39mself\u001b[39;49m\u001b[39m.\u001b[39;49mfigure\u001b[39m.\u001b[39;49mdraw(renderer)\n\u001b[0;32m   2344\u001b[0m \u001b[39mif\u001b[39;00m bbox_inches:\n\u001b[0;32m   2345\u001b[0m     \u001b[39mif\u001b[39;00m bbox_inches \u001b[39m==\u001b[39m \u001b[39m\"\u001b[39m\u001b[39mtight\u001b[39m\u001b[39m\"\u001b[39m:\n",
      "File \u001b[1;32mc:\\Users\\frede\\AppData\\Local\\Programs\\Python\\Python310\\lib\\site-packages\\matplotlib\\artist.py:95\u001b[0m, in \u001b[0;36m_finalize_rasterization.<locals>.draw_wrapper\u001b[1;34m(artist, renderer, *args, **kwargs)\u001b[0m\n\u001b[0;32m     93\u001b[0m \u001b[39m@wraps\u001b[39m(draw)\n\u001b[0;32m     94\u001b[0m \u001b[39mdef\u001b[39;00m \u001b[39mdraw_wrapper\u001b[39m(artist, renderer, \u001b[39m*\u001b[39margs, \u001b[39m*\u001b[39m\u001b[39m*\u001b[39mkwargs):\n\u001b[1;32m---> 95\u001b[0m     result \u001b[39m=\u001b[39m draw(artist, renderer, \u001b[39m*\u001b[39margs, \u001b[39m*\u001b[39m\u001b[39m*\u001b[39mkwargs)\n\u001b[0;32m     96\u001b[0m     \u001b[39mif\u001b[39;00m renderer\u001b[39m.\u001b[39m_rasterizing:\n\u001b[0;32m     97\u001b[0m         renderer\u001b[39m.\u001b[39mstop_rasterizing()\n",
      "File \u001b[1;32mc:\\Users\\frede\\AppData\\Local\\Programs\\Python\\Python310\\lib\\site-packages\\matplotlib\\artist.py:72\u001b[0m, in \u001b[0;36mallow_rasterization.<locals>.draw_wrapper\u001b[1;34m(artist, renderer)\u001b[0m\n\u001b[0;32m     69\u001b[0m     \u001b[39mif\u001b[39;00m artist\u001b[39m.\u001b[39mget_agg_filter() \u001b[39mis\u001b[39;00m \u001b[39mnot\u001b[39;00m \u001b[39mNone\u001b[39;00m:\n\u001b[0;32m     70\u001b[0m         renderer\u001b[39m.\u001b[39mstart_filter()\n\u001b[1;32m---> 72\u001b[0m     \u001b[39mreturn\u001b[39;00m draw(artist, renderer)\n\u001b[0;32m     73\u001b[0m \u001b[39mfinally\u001b[39;00m:\n\u001b[0;32m     74\u001b[0m     \u001b[39mif\u001b[39;00m artist\u001b[39m.\u001b[39mget_agg_filter() \u001b[39mis\u001b[39;00m \u001b[39mnot\u001b[39;00m \u001b[39mNone\u001b[39;00m:\n",
      "File \u001b[1;32mc:\\Users\\frede\\AppData\\Local\\Programs\\Python\\Python310\\lib\\site-packages\\matplotlib\\figure.py:3140\u001b[0m, in \u001b[0;36mFigure.draw\u001b[1;34m(self, renderer)\u001b[0m\n\u001b[0;32m   3137\u001b[0m         \u001b[39m# ValueError can occur when resizing a window.\u001b[39;00m\n\u001b[0;32m   3139\u001b[0m \u001b[39mself\u001b[39m\u001b[39m.\u001b[39mpatch\u001b[39m.\u001b[39mdraw(renderer)\n\u001b[1;32m-> 3140\u001b[0m mimage\u001b[39m.\u001b[39;49m_draw_list_compositing_images(\n\u001b[0;32m   3141\u001b[0m     renderer, \u001b[39mself\u001b[39;49m, artists, \u001b[39mself\u001b[39;49m\u001b[39m.\u001b[39;49msuppressComposite)\n\u001b[0;32m   3143\u001b[0m \u001b[39mfor\u001b[39;00m sfig \u001b[39min\u001b[39;00m \u001b[39mself\u001b[39m\u001b[39m.\u001b[39msubfigs:\n\u001b[0;32m   3144\u001b[0m     sfig\u001b[39m.\u001b[39mdraw(renderer)\n",
      "File \u001b[1;32mc:\\Users\\frede\\AppData\\Local\\Programs\\Python\\Python310\\lib\\site-packages\\matplotlib\\image.py:131\u001b[0m, in \u001b[0;36m_draw_list_compositing_images\u001b[1;34m(renderer, parent, artists, suppress_composite)\u001b[0m\n\u001b[0;32m    129\u001b[0m \u001b[39mif\u001b[39;00m not_composite \u001b[39mor\u001b[39;00m \u001b[39mnot\u001b[39;00m has_images:\n\u001b[0;32m    130\u001b[0m     \u001b[39mfor\u001b[39;00m a \u001b[39min\u001b[39;00m artists:\n\u001b[1;32m--> 131\u001b[0m         a\u001b[39m.\u001b[39;49mdraw(renderer)\n\u001b[0;32m    132\u001b[0m \u001b[39melse\u001b[39;00m:\n\u001b[0;32m    133\u001b[0m     \u001b[39m# Composite any adjacent images together\u001b[39;00m\n\u001b[0;32m    134\u001b[0m     image_group \u001b[39m=\u001b[39m []\n",
      "File \u001b[1;32mc:\\Users\\frede\\AppData\\Local\\Programs\\Python\\Python310\\lib\\site-packages\\matplotlib\\artist.py:72\u001b[0m, in \u001b[0;36mallow_rasterization.<locals>.draw_wrapper\u001b[1;34m(artist, renderer)\u001b[0m\n\u001b[0;32m     69\u001b[0m     \u001b[39mif\u001b[39;00m artist\u001b[39m.\u001b[39mget_agg_filter() \u001b[39mis\u001b[39;00m \u001b[39mnot\u001b[39;00m \u001b[39mNone\u001b[39;00m:\n\u001b[0;32m     70\u001b[0m         renderer\u001b[39m.\u001b[39mstart_filter()\n\u001b[1;32m---> 72\u001b[0m     \u001b[39mreturn\u001b[39;00m draw(artist, renderer)\n\u001b[0;32m     73\u001b[0m \u001b[39mfinally\u001b[39;00m:\n\u001b[0;32m     74\u001b[0m     \u001b[39mif\u001b[39;00m artist\u001b[39m.\u001b[39mget_agg_filter() \u001b[39mis\u001b[39;00m \u001b[39mnot\u001b[39;00m \u001b[39mNone\u001b[39;00m:\n",
      "File \u001b[1;32mc:\\Users\\frede\\AppData\\Local\\Programs\\Python\\Python310\\lib\\site-packages\\matplotlib\\axes\\_base.py:3064\u001b[0m, in \u001b[0;36m_AxesBase.draw\u001b[1;34m(self, renderer)\u001b[0m\n\u001b[0;32m   3061\u001b[0m \u001b[39mif\u001b[39;00m artists_rasterized:\n\u001b[0;32m   3062\u001b[0m     _draw_rasterized(\u001b[39mself\u001b[39m\u001b[39m.\u001b[39mfigure, artists_rasterized, renderer)\n\u001b[1;32m-> 3064\u001b[0m mimage\u001b[39m.\u001b[39;49m_draw_list_compositing_images(\n\u001b[0;32m   3065\u001b[0m     renderer, \u001b[39mself\u001b[39;49m, artists, \u001b[39mself\u001b[39;49m\u001b[39m.\u001b[39;49mfigure\u001b[39m.\u001b[39;49msuppressComposite)\n\u001b[0;32m   3067\u001b[0m renderer\u001b[39m.\u001b[39mclose_group(\u001b[39m'\u001b[39m\u001b[39maxes\u001b[39m\u001b[39m'\u001b[39m)\n\u001b[0;32m   3068\u001b[0m \u001b[39mself\u001b[39m\u001b[39m.\u001b[39mstale \u001b[39m=\u001b[39m \u001b[39mFalse\u001b[39;00m\n",
      "File \u001b[1;32mc:\\Users\\frede\\AppData\\Local\\Programs\\Python\\Python310\\lib\\site-packages\\matplotlib\\image.py:131\u001b[0m, in \u001b[0;36m_draw_list_compositing_images\u001b[1;34m(renderer, parent, artists, suppress_composite)\u001b[0m\n\u001b[0;32m    129\u001b[0m \u001b[39mif\u001b[39;00m not_composite \u001b[39mor\u001b[39;00m \u001b[39mnot\u001b[39;00m has_images:\n\u001b[0;32m    130\u001b[0m     \u001b[39mfor\u001b[39;00m a \u001b[39min\u001b[39;00m artists:\n\u001b[1;32m--> 131\u001b[0m         a\u001b[39m.\u001b[39;49mdraw(renderer)\n\u001b[0;32m    132\u001b[0m \u001b[39melse\u001b[39;00m:\n\u001b[0;32m    133\u001b[0m     \u001b[39m# Composite any adjacent images together\u001b[39;00m\n\u001b[0;32m    134\u001b[0m     image_group \u001b[39m=\u001b[39m []\n",
      "File \u001b[1;32mc:\\Users\\frede\\AppData\\Local\\Programs\\Python\\Python310\\lib\\site-packages\\matplotlib\\artist.py:72\u001b[0m, in \u001b[0;36mallow_rasterization.<locals>.draw_wrapper\u001b[1;34m(artist, renderer)\u001b[0m\n\u001b[0;32m     69\u001b[0m     \u001b[39mif\u001b[39;00m artist\u001b[39m.\u001b[39mget_agg_filter() \u001b[39mis\u001b[39;00m \u001b[39mnot\u001b[39;00m \u001b[39mNone\u001b[39;00m:\n\u001b[0;32m     70\u001b[0m         renderer\u001b[39m.\u001b[39mstart_filter()\n\u001b[1;32m---> 72\u001b[0m     \u001b[39mreturn\u001b[39;00m draw(artist, renderer)\n\u001b[0;32m     73\u001b[0m \u001b[39mfinally\u001b[39;00m:\n\u001b[0;32m     74\u001b[0m     \u001b[39mif\u001b[39;00m artist\u001b[39m.\u001b[39mget_agg_filter() \u001b[39mis\u001b[39;00m \u001b[39mnot\u001b[39;00m \u001b[39mNone\u001b[39;00m:\n",
      "File \u001b[1;32mc:\\Users\\frede\\AppData\\Local\\Programs\\Python\\Python310\\lib\\site-packages\\matplotlib\\image.py:641\u001b[0m, in \u001b[0;36m_ImageBase.draw\u001b[1;34m(self, renderer, *args, **kwargs)\u001b[0m\n\u001b[0;32m    639\u001b[0m         renderer\u001b[39m.\u001b[39mdraw_image(gc, l, b, im, trans)\n\u001b[0;32m    640\u001b[0m \u001b[39melse\u001b[39;00m:\n\u001b[1;32m--> 641\u001b[0m     im, l, b, trans \u001b[39m=\u001b[39m \u001b[39mself\u001b[39;49m\u001b[39m.\u001b[39;49mmake_image(\n\u001b[0;32m    642\u001b[0m         renderer, renderer\u001b[39m.\u001b[39;49mget_image_magnification())\n\u001b[0;32m    643\u001b[0m     \u001b[39mif\u001b[39;00m im \u001b[39mis\u001b[39;00m \u001b[39mnot\u001b[39;00m \u001b[39mNone\u001b[39;00m:\n\u001b[0;32m    644\u001b[0m         renderer\u001b[39m.\u001b[39mdraw_image(gc, l, b, im)\n",
      "File \u001b[1;32mc:\\Users\\frede\\AppData\\Local\\Programs\\Python\\Python310\\lib\\site-packages\\matplotlib\\image.py:949\u001b[0m, in \u001b[0;36mAxesImage.make_image\u001b[1;34m(self, renderer, magnification, unsampled)\u001b[0m\n\u001b[0;32m    946\u001b[0m transformed_bbox \u001b[39m=\u001b[39m TransformedBbox(bbox, trans)\n\u001b[0;32m    947\u001b[0m clip \u001b[39m=\u001b[39m ((\u001b[39mself\u001b[39m\u001b[39m.\u001b[39mget_clip_box() \u001b[39mor\u001b[39;00m \u001b[39mself\u001b[39m\u001b[39m.\u001b[39maxes\u001b[39m.\u001b[39mbbox) \u001b[39mif\u001b[39;00m \u001b[39mself\u001b[39m\u001b[39m.\u001b[39mget_clip_on()\n\u001b[0;32m    948\u001b[0m         \u001b[39melse\u001b[39;00m \u001b[39mself\u001b[39m\u001b[39m.\u001b[39mfigure\u001b[39m.\u001b[39mbbox)\n\u001b[1;32m--> 949\u001b[0m \u001b[39mreturn\u001b[39;00m \u001b[39mself\u001b[39;49m\u001b[39m.\u001b[39;49m_make_image(\u001b[39mself\u001b[39;49m\u001b[39m.\u001b[39;49m_A, bbox, transformed_bbox, clip,\n\u001b[0;32m    950\u001b[0m                         magnification, unsampled\u001b[39m=\u001b[39;49munsampled)\n",
      "File \u001b[1;32mc:\\Users\\frede\\AppData\\Local\\Programs\\Python\\Python310\\lib\\site-packages\\matplotlib\\image.py:545\u001b[0m, in \u001b[0;36m_ImageBase._make_image\u001b[1;34m(self, A, in_bbox, out_bbox, clip_bbox, magnification, unsampled, round_to_pixel_border)\u001b[0m\n\u001b[0;32m    541\u001b[0m     \u001b[39m# Block the norm from sending an update signal during the\u001b[39;00m\n\u001b[0;32m    542\u001b[0m     \u001b[39m# temporary vmin/vmax change\u001b[39;00m\n\u001b[0;32m    543\u001b[0m     \u001b[39mwith\u001b[39;00m \u001b[39mself\u001b[39m\u001b[39m.\u001b[39mnorm\u001b[39m.\u001b[39mcallbacks\u001b[39m.\u001b[39mblocked(), \\\n\u001b[0;32m    544\u001b[0m          cbook\u001b[39m.\u001b[39m_setattr_cm(\u001b[39mself\u001b[39m\u001b[39m.\u001b[39mnorm, vmin\u001b[39m=\u001b[39ms_vmin, vmax\u001b[39m=\u001b[39ms_vmax):\n\u001b[1;32m--> 545\u001b[0m         output \u001b[39m=\u001b[39m \u001b[39mself\u001b[39;49m\u001b[39m.\u001b[39;49mnorm(resampled_masked)\n\u001b[0;32m    546\u001b[0m \u001b[39melse\u001b[39;00m:\n\u001b[0;32m    547\u001b[0m     \u001b[39mif\u001b[39;00m A\u001b[39m.\u001b[39mndim \u001b[39m==\u001b[39m \u001b[39m2\u001b[39m:  \u001b[39m# _interpolation_stage == 'rgba'\u001b[39;00m\n",
      "File \u001b[1;32mc:\\Users\\frede\\AppData\\Local\\Programs\\Python\\Python310\\lib\\site-packages\\matplotlib\\colors.py:1701\u001b[0m, in \u001b[0;36m_make_norm_from_scale.<locals>.Norm.__call__\u001b[1;34m(self, value, clip)\u001b[0m\n\u001b[0;32m   1699\u001b[0m     \u001b[39mself\u001b[39m\u001b[39m.\u001b[39mautoscale_None(value)\n\u001b[0;32m   1700\u001b[0m \u001b[39mif\u001b[39;00m \u001b[39mself\u001b[39m\u001b[39m.\u001b[39mvmin \u001b[39m>\u001b[39m \u001b[39mself\u001b[39m\u001b[39m.\u001b[39mvmax:\n\u001b[1;32m-> 1701\u001b[0m     \u001b[39mraise\u001b[39;00m \u001b[39mValueError\u001b[39;00m(\u001b[39m\"\u001b[39m\u001b[39mvmin must be less or equal to vmax\u001b[39m\u001b[39m\"\u001b[39m)\n\u001b[0;32m   1702\u001b[0m \u001b[39mif\u001b[39;00m \u001b[39mself\u001b[39m\u001b[39m.\u001b[39mvmin \u001b[39m==\u001b[39m \u001b[39mself\u001b[39m\u001b[39m.\u001b[39mvmax:\n\u001b[0;32m   1703\u001b[0m     \u001b[39mreturn\u001b[39;00m np\u001b[39m.\u001b[39mfull_like(value, \u001b[39m0\u001b[39m)\n",
      "\u001b[1;31mValueError\u001b[0m: vmin must be less or equal to vmax"
     ]
    },
    {
     "data": {
      "text/plain": [
       "<Figure size 1200x600 with 2 Axes>"
      ]
     },
     "metadata": {},
     "output_type": "display_data"
    }
   ],
   "source": [
    "import numpy as np\n",
    "import h5py\n",
    "import csv\n",
    "\n",
    "import matplotlib.pyplot as plt\n",
    "from matplotlib import colors\n",
    "from matplotlib import cm\n",
    "\n",
    "def plot_sfts(fr, tmstps, sfts):\n",
    "    fig, ax = plt.subplots(1,1, figsize = (12,6))\n",
    "    # cmap = cm.coolwarm\n",
    "    # cmap = 'RdBu_r'\n",
    "    cmap =cm.jet_r\n",
    "    norm = colors.LogNorm(vmin=np.min(np.abs(sfts)), vmax=np.max(np.abs(sfts)))\n",
    "    extent = [tmstps[0], tmstps[-1], fr[0], fr[-1]]\n",
    "    im0 = ax.imshow(np.abs(sfts), origin = 'lower', aspect = 'auto', norm = norm, cmap = cmap, extent = extent)\n",
    "    ax.set_title('Detector')\n",
    "    ax.set_xlabel('GPS time, s')\n",
    "    ax.set_ylabel('Frequency, Hz')\n",
    "    # add colorbar to each axis\n",
    "    fig.colorbar(im0, ax = ax)\n",
    "    plt.show()\n",
    "\n",
    "plot_sfts(datasets[2],datasets[1],datasets[0])"
   ]
  }
 ],
 "metadata": {
  "kernelspec": {
   "display_name": "Python 3",
   "language": "python",
   "name": "python3"
  },
  "language_info": {
   "codemirror_mode": {
    "name": "ipython",
    "version": 3
   },
   "file_extension": ".py",
   "mimetype": "text/x-python",
   "name": "python",
   "nbconvert_exporter": "python",
   "pygments_lexer": "ipython3",
   "version": "3.10.5"
  },
  "orig_nbformat": 4
 },
 "nbformat": 4,
 "nbformat_minor": 2
}
